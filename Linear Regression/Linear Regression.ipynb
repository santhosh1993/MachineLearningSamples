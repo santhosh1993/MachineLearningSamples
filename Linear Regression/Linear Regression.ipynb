{
 "cells": [
  {
   "cell_type": "code",
   "execution_count": 53,
   "metadata": {},
   "outputs": [],
   "source": [
    "import numpy as np\n",
    "import pandas as pd\n",
    "import matplotlib.pyplot as plt\n",
    "import math"
   ]
  },
  {
   "cell_type": "code",
   "execution_count": 54,
   "metadata": {},
   "outputs": [],
   "source": [
    "houseData = pd.read_csv(\"MagicBricks.csv\")\n"
   ]
  },
  {
   "cell_type": "code",
   "execution_count": 55,
   "metadata": {},
   "outputs": [
    {
     "data": {
      "text/plain": [
       "Index(['Area', 'BHK', 'Bathroom', 'Furnishing', 'Locality', 'Parking', 'Price',\n",
       "       'Status', 'Transaction', 'Type', 'Per_Sqft'],\n",
       "      dtype='object')"
      ]
     },
     "execution_count": 55,
     "metadata": {},
     "output_type": "execute_result"
    }
   ],
   "source": [
    "houseData.columns"
   ]
  },
  {
   "cell_type": "code",
   "execution_count": 56,
   "metadata": {},
   "outputs": [],
   "source": [
    "filteredData = houseData[['Area', 'Price']]"
   ]
  },
  {
   "cell_type": "code",
   "execution_count": 57,
   "metadata": {},
   "outputs": [
    {
     "data": {
      "text/plain": [
       "Index(['Area', 'Price'], dtype='object')"
      ]
     },
     "execution_count": 57,
     "metadata": {},
     "output_type": "execute_result"
    }
   ],
   "source": [
    "filteredData.columns"
   ]
  },
  {
   "cell_type": "code",
   "execution_count": 58,
   "metadata": {},
   "outputs": [
    {
     "data": {
      "text/plain": [
       "<matplotlib.axes._subplots.AxesSubplot at 0x7f8914304100>"
      ]
     },
     "execution_count": 58,
     "metadata": {},
     "output_type": "execute_result"
    },
    {
     "data": {
      "image/png": "[encoded data removed]",
      "text/plain": [
       "<Figure size 432x288 with 1 Axes>"
      ]
     },
     "metadata": {
      "needs_background": "light"
     },
     "output_type": "display_data"
    }
   ],
   "source": [
    "filteredData.plot(x='Area', y='Price', style='o')\n"
   ]
  },
  {
   "cell_type": "code",
   "execution_count": 59,
   "metadata": {},
   "outputs": [
    {
     "data": {
      "text/plain": [
       "<matplotlib.axes._subplots.AxesSubplot at 0x7f89108edfd0>"
      ]
     },
     "execution_count": 59,
     "metadata": {},
     "output_type": "execute_result"
    },
    {
     "data": {
      "image/png": "[encoded data removed]",
      "text/plain": [
       "<Figure size 432x288 with 1 Axes>"
      ]
     },
     "metadata": {
      "needs_background": "light"
     },
     "output_type": "display_data"
    }
   ],
   "source": [
    "filteredData.iloc[:50].plot(x='Area', y='Price', style='+')"
   ]
  },
  {
   "cell_type": "code",
   "execution_count": 150,
   "metadata": {},
   "outputs": [
    {
     "name": "stdout",
     "output_type": "stream",
     "text": [
      "Index(['a'], dtype='object')\n",
      "Index(['a'], dtype='object')\n"
     ]
    }
   ],
   "source": [
    "areaFeature = filteredData[['Area']]/2500\n",
    "priceOutput = filteredData[['Price']]/30000000\n",
    "areaFeature = areaFeature.rename(columns={\"Area\": \"a\"})\n",
    "priceOutput = priceOutput.rename(columns={\"Price\": \"a\"})\n",
    "print(areaFeature.columns)\n",
    "print(priceOutput.columns)"
   ]
  },
  {
   "cell_type": "code",
   "execution_count": 151,
   "metadata": {},
   "outputs": [
    {
     "data": {
      "text/plain": [
       "<matplotlib.axes._subplots.AxesSubplot at 0x7f8914605850>"
      ]
     },
     "execution_count": 151,
     "metadata": {},
     "output_type": "execute_result"
    },
    {
     "data": {
      "image/png": "[encoded data removed]",
      "text/plain": [
       "<Figure size 432x288 with 1 Axes>"
      ]
     },
     "metadata": {
      "needs_background": "light"
     },
     "output_type": "display_data"
    }
   ],
   "source": [
    "data = pd.DataFrame({\"Area\": areaFeature[\"a\"], \"Price\" : priceOutput[\"a\"]})\n",
    "data.plot(x='Area', y='Price', style='+')"
   ]
  },
  {
   "cell_type": "code",
   "execution_count": 154,
   "metadata": {},
   "outputs": [],
   "source": [
    "theta0 = -0.5\n",
    "theta1 = -0.5\n",
    "hypo = theta0 + theta1 * areaFeature\n",
    "m = areaFeature[\"a\"].count()\n",
    "for i in range(4000):\n",
    "    hypo = theta0 + theta1 * areaFeature\n",
    "    \n",
    "    dif = hypo.subtract(priceOutput)\n",
    "    temp0 = theta0 - 0.2*(dif.sum())/m\n",
    "    temp1 = theta1 - 0.2*(dif*areaFeature).sum()/m\n",
    "    \n",
    "    theta0 = temp0\n",
    "    theta1 = temp1\n",
    "\n",
    "\n"
   ]
  },
  {
   "cell_type": "code",
   "execution_count": 155,
   "metadata": {},
   "outputs": [
    {
     "name": "stdout",
     "output_type": "stream",
     "text": [
      "a    0.594386\n",
      "dtype: float64\n",
      "0.23333333333333334\n",
      "a    0.246672\n",
      "dtype: float64\n",
      "a    0.790261\n",
      "dtype: float64\n"
     ]
    }
   ],
   "source": [
    "print(theta0 + theta1 * areaFeature[\"a\"][25])\n",
    "print(priceOutput[\"a\"][25])\n",
    "print(theta0)\n",
    "print(theta1)"
   ]
  },
  {
   "cell_type": "code",
   "execution_count": null,
   "metadata": {},
   "outputs": [],
   "source": [
    "hypothysis = theta0 + theta1 * input/2500"
   ]
  }
 ],
 "metadata": {
  "kernelspec": {
   "display_name": "Python 3",
   "language": "python",
   "name": "python3"
  },
  "language_info": {
   "codemirror_mode": {
    "name": "ipython",
    "version": 3
   },
   "file_extension": ".py",
   "mimetype": "text/x-python",
   "name": "python",
   "nbconvert_exporter": "python",
   "pygments_lexer": "ipython3",
   "version": "3.8.3"
  }
 },
 "nbformat": 4,
 "nbformat_minor": 4
}
