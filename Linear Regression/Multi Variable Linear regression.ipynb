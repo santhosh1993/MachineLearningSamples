{
 "cells": [
  {
   "cell_type": "code",
   "execution_count": 1,
   "metadata": {},
   "outputs": [],
   "source": [
    "import numpy as np\n",
    "import pandas as pd\n",
    "import matplotlib.pyplot as plt\n",
    "import math\n",
    "\n",
    "houseData = pd.read_csv(\"MagicBricks.csv\")\n"
   ]
  },
  {
   "cell_type": "code",
   "execution_count": 2,
   "metadata": {},
   "outputs": [],
   "source": [
    "filteredData = houseData[['Area', 'BHK','Price']]"
   ]
  },
  {
   "cell_type": "code",
   "execution_count": 6,
   "metadata": {},
   "outputs": [],
   "source": [
    "areaFeature = filteredData[['Area']]/2500\n",
    "priceOutput = filteredData[['Price']]/30000000\n",
    "bhkFeature = filteredData[['BHK']]/4\n",
    "areaFeature = areaFeature.rename(columns={\"Area\": \"a\"})\n",
    "priceOutput = priceOutput.rename(columns={\"Price\": \"a\"})\n",
    "bhkFeature = bhkFeature.rename(columns = {\"BHK\": \"a\"})"
   ]
  },
  {
   "cell_type": "code",
   "execution_count": 7,
   "metadata": {},
   "outputs": [],
   "source": [
    "theta0 = -0.5\n",
    "theta1 = -0.5\n",
    "theta2 = -0.5\n",
    "hypo = theta0 + theta1 * areaFeature + theta2 * bhkFeature\n",
    "m = areaFeature[\"a\"].count()\n",
    "for i in range(4000):\n",
    "    hypo = theta0 + theta1 * areaFeature + theta2 * bhkFeature\n",
    "    \n",
    "    dif = hypo.subtract(priceOutput)\n",
    "    temp0 = theta0 - 0.2*(dif.sum())/m\n",
    "    temp1 = theta1 - 0.2*(dif*areaFeature).sum()/m\n",
    "    temp2 = theta2 - 0.2*(dif*bhkFeature).sum()/m\n",
    "    \n",
    "    theta0 = temp0\n",
    "    theta1 = temp1\n",
    "    theta2 = temp2\n"
   ]
  },
  {
   "cell_type": "code",
   "execution_count": 9,
   "metadata": {},
   "outputs": [
    {
     "name": "stdout",
     "output_type": "stream",
     "text": [
      "a    0.274795\n",
      "dtype: float64\n",
      "0.16666666666666666\n",
      "a   -0.586648\n",
      "dtype: float64\n",
      "a    0.552355\n",
      "dtype: float64\n"
     ]
    }
   ],
   "source": [
    "print(theta0 + theta1 * areaFeature[\"a\"][1] + theta2 * bhkFeature[\"a\"][1])\n",
    "print(priceOutput[\"a\"][1])\n",
    "print(theta0)\n",
    "print(theta1)"
   ]
  },
  {
   "cell_type": "code",
   "execution_count": null,
   "metadata": {},
   "outputs": [],
   "source": [
    "hypothysis = theta0 + theta1 * areaInput/2500 + theta2 * bhkinput/4"
   ]
  }
 ],
 "metadata": {
  "kernelspec": {
   "display_name": "Python 3",
   "language": "python",
   "name": "python3"
  },
  "language_info": {
   "codemirror_mode": {
    "name": "ipython",
    "version": 3
   },
   "file_extension": ".py",
   "mimetype": "text/x-python",
   "name": "python",
   "nbconvert_exporter": "python",
   "pygments_lexer": "ipython3",
   "version": "3.8.3"
  }
 },
 "nbformat": 4,
 "nbformat_minor": 4
}
